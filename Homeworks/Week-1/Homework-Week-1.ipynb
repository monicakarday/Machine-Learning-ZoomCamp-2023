{
 "cells": [
  {
   "cell_type": "markdown",
   "id": "4f988de3",
   "metadata": {},
   "source": [
    "## Homework Week 1"
   ]
  },
  {
   "cell_type": "markdown",
   "id": "13ee974f",
   "metadata": {},
   "source": [
    "**Question 1** <br>\n",
    "What's the version of Pandas that you installed?"
   ]
  },
  {
   "cell_type": "code",
   "execution_count": 1,
   "id": "32c33319",
   "metadata": {},
   "outputs": [],
   "source": [
    "import numpy as np\n",
    "import pandas as pd"
   ]
  },
  {
   "cell_type": "code",
   "execution_count": 2,
   "id": "7f18e683",
   "metadata": {},
   "outputs": [
    {
     "data": {
      "text/plain": [
       "'2.0.3'"
      ]
     },
     "execution_count": 2,
     "metadata": {},
     "output_type": "execute_result"
    }
   ],
   "source": [
    "pd.__version__"
   ]
  },
  {
   "cell_type": "markdown",
   "id": "c09e1b63",
   "metadata": {},
   "source": [
    "**Getting the data** <br>\n",
    "For this homework, we'll use the California Housing Prices dataset. \n"
   ]
  },
  {
   "cell_type": "code",
   "execution_count": null,
   "id": "432aad65",
   "metadata": {},
   "outputs": [],
   "source": [
    "# import wget\n",
    "# url = \"https://raw.githubusercontent.com/alexeygrigorev/datasets/master/housing.csv\"\n",
    "# wget.download(url)"
   ]
  },
  {
   "cell_type": "markdown",
   "id": "82fb25c7",
   "metadata": {},
   "source": [
    "Now read it with Pandas."
   ]
  },
  {
   "cell_type": "code",
   "execution_count": 3,
   "id": "51a138b8",
   "metadata": {},
   "outputs": [
    {
     "data": {
      "text/html": [
       "<div>\n",
       "<style scoped>\n",
       "    .dataframe tbody tr th:only-of-type {\n",
       "        vertical-align: middle;\n",
       "    }\n",
       "\n",
       "    .dataframe tbody tr th {\n",
       "        vertical-align: top;\n",
       "    }\n",
       "\n",
       "    .dataframe thead th {\n",
       "        text-align: right;\n",
       "    }\n",
       "</style>\n",
       "<table border=\"1\" class=\"dataframe\">\n",
       "  <thead>\n",
       "    <tr style=\"text-align: right;\">\n",
       "      <th></th>\n",
       "      <th>longitude</th>\n",
       "      <th>latitude</th>\n",
       "      <th>housing_median_age</th>\n",
       "      <th>total_rooms</th>\n",
       "      <th>total_bedrooms</th>\n",
       "      <th>population</th>\n",
       "      <th>households</th>\n",
       "      <th>median_income</th>\n",
       "      <th>median_house_value</th>\n",
       "      <th>ocean_proximity</th>\n",
       "    </tr>\n",
       "  </thead>\n",
       "  <tbody>\n",
       "    <tr>\n",
       "      <th>0</th>\n",
       "      <td>-122.23</td>\n",
       "      <td>37.88</td>\n",
       "      <td>41.0</td>\n",
       "      <td>880.0</td>\n",
       "      <td>129.0</td>\n",
       "      <td>322.0</td>\n",
       "      <td>126.0</td>\n",
       "      <td>8.3252</td>\n",
       "      <td>452600.0</td>\n",
       "      <td>NEAR BAY</td>\n",
       "    </tr>\n",
       "    <tr>\n",
       "      <th>1</th>\n",
       "      <td>-122.22</td>\n",
       "      <td>37.86</td>\n",
       "      <td>21.0</td>\n",
       "      <td>7099.0</td>\n",
       "      <td>1106.0</td>\n",
       "      <td>2401.0</td>\n",
       "      <td>1138.0</td>\n",
       "      <td>8.3014</td>\n",
       "      <td>358500.0</td>\n",
       "      <td>NEAR BAY</td>\n",
       "    </tr>\n",
       "    <tr>\n",
       "      <th>2</th>\n",
       "      <td>-122.24</td>\n",
       "      <td>37.85</td>\n",
       "      <td>52.0</td>\n",
       "      <td>1467.0</td>\n",
       "      <td>190.0</td>\n",
       "      <td>496.0</td>\n",
       "      <td>177.0</td>\n",
       "      <td>7.2574</td>\n",
       "      <td>352100.0</td>\n",
       "      <td>NEAR BAY</td>\n",
       "    </tr>\n",
       "    <tr>\n",
       "      <th>3</th>\n",
       "      <td>-122.25</td>\n",
       "      <td>37.85</td>\n",
       "      <td>52.0</td>\n",
       "      <td>1274.0</td>\n",
       "      <td>235.0</td>\n",
       "      <td>558.0</td>\n",
       "      <td>219.0</td>\n",
       "      <td>5.6431</td>\n",
       "      <td>341300.0</td>\n",
       "      <td>NEAR BAY</td>\n",
       "    </tr>\n",
       "    <tr>\n",
       "      <th>4</th>\n",
       "      <td>-122.25</td>\n",
       "      <td>37.85</td>\n",
       "      <td>52.0</td>\n",
       "      <td>1627.0</td>\n",
       "      <td>280.0</td>\n",
       "      <td>565.0</td>\n",
       "      <td>259.0</td>\n",
       "      <td>3.8462</td>\n",
       "      <td>342200.0</td>\n",
       "      <td>NEAR BAY</td>\n",
       "    </tr>\n",
       "  </tbody>\n",
       "</table>\n",
       "</div>"
      ],
      "text/plain": [
       "   longitude  latitude  housing_median_age  total_rooms  total_bedrooms  \\\n",
       "0    -122.23     37.88                41.0        880.0           129.0   \n",
       "1    -122.22     37.86                21.0       7099.0          1106.0   \n",
       "2    -122.24     37.85                52.0       1467.0           190.0   \n",
       "3    -122.25     37.85                52.0       1274.0           235.0   \n",
       "4    -122.25     37.85                52.0       1627.0           280.0   \n",
       "\n",
       "   population  households  median_income  median_house_value ocean_proximity  \n",
       "0       322.0       126.0         8.3252            452600.0        NEAR BAY  \n",
       "1      2401.0      1138.0         8.3014            358500.0        NEAR BAY  \n",
       "2       496.0       177.0         7.2574            352100.0        NEAR BAY  \n",
       "3       558.0       219.0         5.6431            341300.0        NEAR BAY  \n",
       "4       565.0       259.0         3.8462            342200.0        NEAR BAY  "
      ]
     },
     "execution_count": 3,
     "metadata": {},
     "output_type": "execute_result"
    }
   ],
   "source": [
    "df = pd.read_csv('https://raw.githubusercontent.com/alexeygrigorev/datasets/master/housing.csv')\n",
    "df.head()"
   ]
  },
  {
   "cell_type": "markdown",
   "id": "8a1a2c4b",
   "metadata": {},
   "source": [
    "**Question 2** <br>\n",
    "How many columns are in the dataset?\n",
    "\n",
    "- 10  \n",
    "- 6560 \n",
    "- 10989\n",
    "- 20640\n"
   ]
  },
  {
   "cell_type": "code",
   "execution_count": 4,
   "id": "ad3df573",
   "metadata": {},
   "outputs": [
    {
     "name": "stdout",
     "output_type": "stream",
     "text": [
      "The number of columns in given dataset: 10\n"
     ]
    }
   ],
   "source": [
    "print('The number of columns in given dataset:', df.shape[1]) # Displays columns"
   ]
  },
  {
   "cell_type": "markdown",
   "id": "5846eed5",
   "metadata": {},
   "source": [
    "**Question 3**\n",
    "\n",
    "Which columns in the dataset have missing values?\n",
    "\n",
    "- <code>total_rooms</code>\n",
    "- <code>total_bedrooms</code>\n",
    "- both of the above\n",
    "- no empty columns in the dataset\n"
   ]
  },
  {
   "cell_type": "code",
   "execution_count": 5,
   "id": "11e411cc",
   "metadata": {
    "scrolled": true
   },
   "outputs": [
    {
     "data": {
      "text/plain": [
       "['total_bedrooms']"
      ]
     },
     "execution_count": 5,
     "metadata": {},
     "output_type": "execute_result"
    }
   ],
   "source": [
    "missing_val = df.isnull().sum() #Finding total number of missing values in columns\n",
    "missing_val[missing_val > 0].index.tolist() # Outputs list of column names with missing values"
   ]
  },
  {
   "cell_type": "markdown",
   "id": "925562f3",
   "metadata": {},
   "source": [
    "**Question 4**\n",
    "\n",
    "How many unique values does the ocean_proximity column have?\n",
    "\n",
    "- 3\n",
    "- 5\n",
    "- 7\n",
    "- 9"
   ]
  },
  {
   "cell_type": "code",
   "execution_count": 12,
   "id": "590608dc",
   "metadata": {},
   "outputs": [
    {
     "name": "stdout",
     "output_type": "stream",
     "text": [
      "The number of unique values in ocean_proximity column: 5\n"
     ]
    }
   ],
   "source": [
    "print('The number of unique values in ocean_proximity column:', df['ocean_proximity'].nunique()) # Generates the total number of unique values"
   ]
  },
  {
   "cell_type": "markdown",
   "id": "71bb4c06",
   "metadata": {},
   "source": [
    "**Question 5**\n",
    "\n",
    "What's the average value of the <code>median_house_value</code> for the houses located near the bay?\n",
    "\n",
    "- 49433\n",
    "- 124805\n",
    "- 259212\n",
    "- 380440"
   ]
  },
  {
   "cell_type": "code",
   "execution_count": 7,
   "id": "7110d7fd",
   "metadata": {},
   "outputs": [
    {
     "name": "stdout",
     "output_type": "stream",
     "text": [
      "The average house value for houses near bay is 259212\n"
     ]
    }
   ],
   "source": [
    "avg_house_value = df.groupby('ocean_proximity')['median_house_value'].mean()['NEAR BAY']\n",
    "print(f\"The average house value for houses near bay is {avg_house_value:.0f}\")"
   ]
  },
  {
   "cell_type": "markdown",
   "id": "a7b30c17",
   "metadata": {},
   "source": [
    "**Question 6**\n",
    "\n",
    "1. Calculate the average of <code>total_bedrooms</code> column in the dataset.\n",
    "2. Use the <code>fillna</code> method to fill the missing values in <code>total_bedrooms</code> with the mean value from the previous step.\n",
    "3. Now, calculate the average of total_bedrooms again.\n",
    "4. Has it changed?\n",
    "\n",
    "Has it changed?\n",
    "\n",
    "> Hint: take into account only 3 digits after the decimal point.\n",
    "\n",
    "- Yes\n",
    "- No"
   ]
  },
  {
   "cell_type": "code",
   "execution_count": 8,
   "id": "8caef559",
   "metadata": {},
   "outputs": [
    {
     "name": "stdout",
     "output_type": "stream",
     "text": [
      "Total number of missing values: 207\n",
      "Average value of total_bedrooms before filling missing values: 537.871\n",
      "Average value of total_bedrooms after filling missing values: 537.871\n"
     ]
    }
   ],
   "source": [
    "# Total number of missing values before filling\n",
    "total_missing = df['total_bedrooms'].isna().sum() # number of missing values before filling\n",
    "\n",
    "# Mean before filling missing values\n",
    "initial_mean = df['total_bedrooms'].mean()\n",
    "\n",
    "# Filling the missing values\n",
    "df['total_bedrooms'] = df['total_bedrooms'].fillna(initial_mean)\n",
    "\n",
    "# Mean after filling missing values\n",
    "final_mean = df['total_bedrooms'].mean()\n",
    "\n",
    "print(f'Total number of missing values: {total_missing}')\n",
    "print(f'Average value of total_bedrooms before filling missing values: {initial_mean:.3f}')\n",
    "print(f'Average value of total_bedrooms after filling missing values: {final_mean:.3f}')"
   ]
  },
  {
   "cell_type": "markdown",
   "id": "1e873bc7",
   "metadata": {},
   "source": [
    "**Question 7**\n",
    "\n",
    "1. Select all the options located on islands.\n",
    "2. Select only columns housing_median_age, total_rooms, total_bedrooms.\n",
    "3. Get the underlying NumPy array. Let's call it X.\n",
    "4. Compute matrix-matrix multiplication between the transpose of X and X. To get the transpose, use X.T. Let's call the result XTX.\n",
    "5. Compute the inverse of XTX.\n",
    "6. Create an array y with values [950, 1300, 800, 1000, 1300].\n",
    "7. Multiply the inverse of XTX with the transpose of X, and then multiply the result by y. Call the result w.\n",
    "8. What's the value of the last element of w?\n",
    "\n",
    "> Note: You just implemented linear regression. We'll talk about it in the next lesson.\n",
    "\n",
    "- -1.4812\n",
    "- 0.001\n",
    "- 5.6992\n",
    "- 23.1233"
   ]
  },
  {
   "cell_type": "code",
   "execution_count": 10,
   "id": "f06da7fb",
   "metadata": {},
   "outputs": [
    {
     "name": "stdout",
     "output_type": "stream",
     "text": [
      "The last value of w is 5.6992\n"
     ]
    }
   ],
   "source": [
    "#Select all the options located on islands\n",
    "island_df = df[df['ocean_proximity'] == 'ISLAND']\n",
    "\n",
    "#Select only columns housing_median_age, total_rooms, total_bedrooms.\n",
    "island_cols = island_df[['housing_median_age','total_rooms', 'total_bedrooms']]\n",
    "\n",
    "#Get the underlying NumPy array. Let's call it X.\n",
    "X = island_cols.values\n",
    "\n",
    "#Compute matrix-matrix multiplication between the transpose of X and X. \n",
    "#To get the transpose, use X.T. Let's call the result XTX\n",
    "XTX = (X.T).dot(X)\n",
    "\n",
    "#Create an array y with values [950, 1300, 800, 1000, 1300]\n",
    "y = np.array([950, 1300, 800, 1000, 1300])\n",
    "\n",
    "#Multiply the inverse of XTX with the transpose of X, and then multiply the result by y. \n",
    "#Call the result w.\n",
    "w = (np.linalg.inv(XTX)).dot(X.T).dot(y)\n",
    "\n",
    "#What's the value of the last element of w?\n",
    "print(f'The last value of w is {w[-1]:.4f}')"
   ]
  },
  {
   "cell_type": "code",
   "execution_count": null,
   "id": "49b1d9fb",
   "metadata": {},
   "outputs": [],
   "source": []
  }
 ],
 "metadata": {
  "kernelspec": {
   "display_name": "Python 3 (ipykernel)",
   "language": "python",
   "name": "python3"
  },
  "language_info": {
   "codemirror_mode": {
    "name": "ipython",
    "version": 3
   },
   "file_extension": ".py",
   "mimetype": "text/x-python",
   "name": "python",
   "nbconvert_exporter": "python",
   "pygments_lexer": "ipython3",
   "version": "3.9.18"
  }
 },
 "nbformat": 4,
 "nbformat_minor": 5
}
